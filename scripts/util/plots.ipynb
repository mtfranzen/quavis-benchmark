{
 "cells": [
  {
   "cell_type": "code",
   "execution_count": 35,
   "metadata": {
    "collapsed": true
   },
   "outputs": [],
   "source": [
    "%matplotlib inline\n",
    "import numpy as np\n",
    "import pandas as pd\n",
    "import matplotlib.pyplot as plt\n",
    "import seaborn as sns"
   ]
  },
  {
   "cell_type": "code",
   "execution_count": 36,
   "metadata": {
    "collapsed": true
   },
   "outputs": [],
   "source": [
    "df = pd.read_csv(\"../../output/output.csv\", delimiter=\";\")"
   ]
  },
  {
   "cell_type": "code",
   "execution_count": 37,
   "metadata": {
    "collapsed": false
   },
   "outputs": [
    {
     "data": {
      "text/html": [
       "<div>\n",
       "<table border=\"1\" class=\"dataframe\">\n",
       "  <thead>\n",
       "    <tr style=\"text-align: right;\">\n",
       "      <th></th>\n",
       "      <th>MAPPING</th>\n",
       "      <th>FUNCTION</th>\n",
       "      <th>OBJ</th>\n",
       "      <th>WIDTH</th>\n",
       "      <th>REPEATS</th>\n",
       "      <th>RMAX</th>\n",
       "      <th>GEOM_OFF?</th>\n",
       "      <th>TESS_OFF?</th>\n",
       "      <th>ALPHA</th>\n",
       "      <th>X</th>\n",
       "      <th>Y</th>\n",
       "      <th>Z</th>\n",
       "      <th>EXPECTED_RESULT</th>\n",
       "      <th>ACTUAL_RESULT</th>\n",
       "      <th>GRAPHICS_FPS</th>\n",
       "      <th>COMPUTE_FPS</th>\n",
       "      <th>Unnamed: 16</th>\n",
       "    </tr>\n",
       "  </thead>\n",
       "  <tbody>\n",
       "    <tr>\n",
       "      <th>0</th>\n",
       "      <td>SPHERICAL</td>\n",
       "      <td>spherical_area</td>\n",
       "      <td>octahedron.1.0.0.0.0.0.0.obj</td>\n",
       "      <td>2048</td>\n",
       "      <td>1000</td>\n",
       "      <td>10000</td>\n",
       "      <td>0</td>\n",
       "      <td>0</td>\n",
       "      <td>3.141593</td>\n",
       "      <td>0</td>\n",
       "      <td>0</td>\n",
       "      <td>0</td>\n",
       "      <td>12.566371</td>\n",
       "      <td>0.000000</td>\n",
       "      <td>6342.20</td>\n",
       "      <td>2964.13</td>\n",
       "      <td>NaN</td>\n",
       "    </tr>\n",
       "    <tr>\n",
       "      <th>1</th>\n",
       "      <td>SPHERICAL</td>\n",
       "      <td>spherical_area</td>\n",
       "      <td>wide_triangle.obj</td>\n",
       "      <td>2048</td>\n",
       "      <td>1000</td>\n",
       "      <td>10000</td>\n",
       "      <td>0</td>\n",
       "      <td>0</td>\n",
       "      <td>3.141593</td>\n",
       "      <td>0</td>\n",
       "      <td>0</td>\n",
       "      <td>0</td>\n",
       "      <td>1.569383</td>\n",
       "      <td>1.048940</td>\n",
       "      <td>6164.32</td>\n",
       "      <td>2911.28</td>\n",
       "      <td>NaN</td>\n",
       "    </tr>\n",
       "    <tr>\n",
       "      <th>2</th>\n",
       "      <td>SPHERICAL</td>\n",
       "      <td>spherical_area</td>\n",
       "      <td>octahedron.1.0.0.0.0.0.0.obj</td>\n",
       "      <td>1536</td>\n",
       "      <td>1000</td>\n",
       "      <td>10000</td>\n",
       "      <td>0</td>\n",
       "      <td>0</td>\n",
       "      <td>3.141593</td>\n",
       "      <td>0</td>\n",
       "      <td>0</td>\n",
       "      <td>0</td>\n",
       "      <td>12.566371</td>\n",
       "      <td>0.000000</td>\n",
       "      <td>10927.90</td>\n",
       "      <td>4531.39</td>\n",
       "      <td>NaN</td>\n",
       "    </tr>\n",
       "    <tr>\n",
       "      <th>3</th>\n",
       "      <td>SPHERICAL</td>\n",
       "      <td>spherical_area</td>\n",
       "      <td>wide_triangle.obj</td>\n",
       "      <td>1536</td>\n",
       "      <td>1000</td>\n",
       "      <td>10000</td>\n",
       "      <td>0</td>\n",
       "      <td>0</td>\n",
       "      <td>3.141593</td>\n",
       "      <td>0</td>\n",
       "      <td>0</td>\n",
       "      <td>0</td>\n",
       "      <td>1.569383</td>\n",
       "      <td>0.702111</td>\n",
       "      <td>10587.20</td>\n",
       "      <td>4451.61</td>\n",
       "      <td>NaN</td>\n",
       "    </tr>\n",
       "    <tr>\n",
       "      <th>4</th>\n",
       "      <td>SPHERICAL</td>\n",
       "      <td>spherical_area</td>\n",
       "      <td>octahedron.1.0.0.0.0.0.0.obj</td>\n",
       "      <td>1024</td>\n",
       "      <td>1000</td>\n",
       "      <td>10000</td>\n",
       "      <td>0</td>\n",
       "      <td>0</td>\n",
       "      <td>3.141593</td>\n",
       "      <td>0</td>\n",
       "      <td>0</td>\n",
       "      <td>0</td>\n",
       "      <td>12.566371</td>\n",
       "      <td>0.000000</td>\n",
       "      <td>22498.20</td>\n",
       "      <td>8044.92</td>\n",
       "      <td>NaN</td>\n",
       "    </tr>\n",
       "  </tbody>\n",
       "</table>\n",
       "</div>"
      ],
      "text/plain": [
       "     MAPPING        FUNCTION                           OBJ  WIDTH  REPEATS  \\\n",
       "0  SPHERICAL  spherical_area  octahedron.1.0.0.0.0.0.0.obj   2048     1000   \n",
       "1  SPHERICAL  spherical_area             wide_triangle.obj   2048     1000   \n",
       "2  SPHERICAL  spherical_area  octahedron.1.0.0.0.0.0.0.obj   1536     1000   \n",
       "3  SPHERICAL  spherical_area             wide_triangle.obj   1536     1000   \n",
       "4  SPHERICAL  spherical_area  octahedron.1.0.0.0.0.0.0.obj   1024     1000   \n",
       "\n",
       "    RMAX  GEOM_OFF?  TESS_OFF?     ALPHA  X  Y  Z  EXPECTED_RESULT  \\\n",
       "0  10000          0          0  3.141593  0  0  0        12.566371   \n",
       "1  10000          0          0  3.141593  0  0  0         1.569383   \n",
       "2  10000          0          0  3.141593  0  0  0        12.566371   \n",
       "3  10000          0          0  3.141593  0  0  0         1.569383   \n",
       "4  10000          0          0  3.141593  0  0  0        12.566371   \n",
       "\n",
       "   ACTUAL_RESULT  GRAPHICS_FPS  COMPUTE_FPS  Unnamed: 16  \n",
       "0       0.000000       6342.20      2964.13          NaN  \n",
       "1       1.048940       6164.32      2911.28          NaN  \n",
       "2       0.000000      10927.90      4531.39          NaN  \n",
       "3       0.702111      10587.20      4451.61          NaN  \n",
       "4       0.000000      22498.20      8044.92          NaN  "
      ]
     },
     "execution_count": 37,
     "metadata": {},
     "output_type": "execute_result"
    }
   ],
   "source": [
    "df.head()"
   ]
  },
  {
   "cell_type": "code",
   "execution_count": 38,
   "metadata": {
    "collapsed": false
   },
   "outputs": [],
   "source": [
    "df[\"ERROR\"] = abs(df[\"EXPECTED_RESULT\"] - df[\"ACTUAL_RESULT\"])/df[\"EXPECTED_RESULT\"]"
   ]
  },
  {
   "cell_type": "code",
   "execution_count": 39,
   "metadata": {
    "collapsed": false
   },
   "outputs": [],
   "source": [
    "dfo = df[df[\"OBJ\"] == \"octahedron.1.0.0.0.0.0.0.obj\"]\n",
    "dft = df[df[\"OBJ\"] == \"wide_triangle.obj\"]"
   ]
  },
  {
   "cell_type": "markdown",
   "metadata": {},
   "source": [
    "# Performance"
   ]
  },
  {
   "cell_type": "code",
   "execution_count": 40,
   "metadata": {
    "collapsed": true
   },
   "outputs": [],
   "source": [
    "df_fps = dfo\n",
    "df_fps = df_fps[df_fps[\"FUNCTION\"] == \"spherical_area\"]\n",
    "df_fps = df_fps[df_fps[\"GEOM_OFF?\"] != 1]\n",
    "df_fps = df_fps[df_fps[\"TESS_OFF?\"] != 1]"
   ]
  },
  {
   "cell_type": "code",
   "execution_count": 41,
   "metadata": {
    "collapsed": false
   },
   "outputs": [
    {
     "name": "stderr",
     "output_type": "stream",
     "text": [
      "/usr/local/lib/python2.7/dist-packages/ipykernel/__main__.py:6: SettingWithCopyWarning: \n",
      "A value is trying to be set on a copy of a slice from a DataFrame.\n",
      "Try using .loc[row_indexer,col_indexer] = value instead\n",
      "\n",
      "See the caveats in the documentation: http://pandas.pydata.org/pandas-docs/stable/indexing.html#indexing-view-versus-copy\n",
      "/usr/local/lib/python2.7/dist-packages/ipykernel/__main__.py:7: SettingWithCopyWarning: \n",
      "A value is trying to be set on a copy of a slice from a DataFrame.\n",
      "Try using .loc[row_indexer,col_indexer] = value instead\n",
      "\n",
      "See the caveats in the documentation: http://pandas.pydata.org/pandas-docs/stable/indexing.html#indexing-view-versus-copy\n"
     ]
    }
   ],
   "source": [
    "df_fps_cube = df_fps[df_fps[\"MAPPING\"] == \"CUBE\"]\n",
    "df_fps_cube.columns = [c+\".C\" for c in df_fps_cube.columns]\n",
    "df_fps_spherical = df_fps[df_fps[\"MAPPING\"] == \"SPHERICAL\"]\n",
    "df_fps_spherical.columns = [c+\".S\" for c in df_fps_spherical.columns]\n",
    "\n",
    "df_fps_cube[\"key\"] = 0\n",
    "df_fps_spherical[\"key\"] = 0\n",
    "df_fps_both = pd.merge(df_fps_spherical, df_fps_cube, on =\"key\")"
   ]
  },
  {
   "cell_type": "code",
   "execution_count": 48,
   "metadata": {
    "collapsed": false
   },
   "outputs": [],
   "source": [
    "reldiff = lambda a,b: abs((a-b)/a)\n",
    "df_fps_both[\"W\"] = df_fps_both[\"WIDTH.C\"]/df_fps_both[\"WIDTH.S\"]\n",
    "df_fps_both[\"E\"] = reldiff(df_fps_both[\"ERROR.C\"],df_fps_both[\"ERROR.S\"])\n",
    "df_fps_both[\"GFPS\"] = df_fps_both[\"GRAPHICS_FPS.C\"]/df_fps_both[\"GRAPHICS_FPS.S\"]\n",
    "df_fps_both[\"CFPS\"] = df_fps_both[\"COMPUTE_FPS.C\"]/df_fps_both[\"COMPUTE_FPS.S\"]"
   ]
  },
  {
   "cell_type": "code",
   "execution_count": 43,
   "metadata": {
    "collapsed": false,
    "scrolled": true
   },
   "outputs": [
    {
     "data": {
      "image/png": "[encoded data removed]",
      "text/plain": [
       "<matplotlib.figure.Figure at 0x7f8f2c90dd50>"
      ]
     },
     "metadata": {},
     "output_type": "display_data"
    }
   ],
   "source": [
    "f = plt.figure()\n",
    "ax = f.gca()\n",
    "ax.set(yscale=\"log\")\n",
    "ax = sns.regplot(x=\"W\",\n",
    "            y=\"GFPS\",\n",
    "            ax=ax,\n",
    "            data=df_fps_both,\n",
    "            x_estimator=np.mean,\n",
    "            fit_reg=False,\n",
    "            ci=0\n",
    "        )\n",
    "ax.set(xlabel=r\"$\\frac{\\mathrm{width}_{Cube}}{\\mathrm{width}_{Sphere}}$\")\n",
    "ax.set(ylabel=r\"$\\frac{\\mathrm{GFPS}_{Cube}}{\\mathrm{GFPS}_{Sphere}}$\")\n",
    "f.savefig(\"plots/gfps_ratio.pdf\")"
   ]
  },
  {
   "cell_type": "code",
   "execution_count": 54,
   "metadata": {
    "collapsed": false
   },
   "outputs": [
    {
     "data": {
      "image/png": "[encoded data removed]",
      "text/plain": [
       "<matplotlib.figure.Figure at 0x7f8f33b185d0>"
      ]
     },
     "metadata": {},
     "output_type": "display_data"
    }
   ],
   "source": [
    "f = plt.figure()\n",
    "ax = f.gca()\n",
    "ax.set(yscale=\"log\")\n",
    "ax = sns.regplot(x=\"W\",\n",
    "            y=\"CFPS\",\n",
    "            ax=ax,\n",
    "            data=df_fps_both,\n",
    "            x_estimator=np.mean,\n",
    "            fit_reg=False,\n",
    "                 ci=0\n",
    "        )\n",
    "ax.set(xlabel=r\"$\\frac{\\mathrm{width}_{Cube}}{\\mathrm{width}_{Sphere}}$\")\n",
    "ax.set(ylabel=r\"$\\frac{\\mathrm{CFPS}_{Cube}}{\\mathrm{CFPS}_{Sphere}}$\")\n",
    "f.savefig(\"plots/cfps_ratio.pdf\")"
   ]
  },
  {
   "cell_type": "code",
   "execution_count": 55,
   "metadata": {
    "collapsed": false
   },
   "outputs": [
    {
     "data": {
      "image/png": "[encoded data removed]",
      "text/plain": [
       "<matplotlib.figure.Figure at 0x7f8f33b18d50>"
      ]
     },
     "metadata": {},
     "output_type": "display_data"
    }
   ],
   "source": [
    "f = plt.figure()\n",
    "ax = f.gca()\n",
    "ax.set(yscale=\"log\")\n",
    "ax = sns.regplot(x=\"W\",\n",
    "            y=\"E\",\n",
    "            ax=ax,\n",
    "            data=df_fps_both[df_fps_both[\"ALPHA.S\"] < 0.011],\n",
    "            x_estimator=np.mean,\n",
    "            fit_reg=False,\n",
    "            ci=0\n",
    "        )\n",
    "ax.set(xlabel=r\"$\\frac{\\mathrm{width}_{Cube}}{\\mathrm{width}_{Sphere}}$\")\n",
    "ax.set(ylabel=r\"$\\frac{\\mathrm{error}_{Cube}}{\\mathrm{error}_{Sphere}}$\")\n",
    "f.savefig(\"plots/error_ratio.pdf\")"
   ]
  },
  {
   "cell_type": "code",
   "execution_count": 47,
   "metadata": {
    "collapsed": false
   },
   "outputs": [],
   "source": [
    "df_fps_both[df_fps_both[\"ALPHA.S\"] < 0.011].to_csv(\"test.csv\")"
   ]
  },
  {
   "cell_type": "code",
   "execution_count": null,
   "metadata": {
    "collapsed": true
   },
   "outputs": [],
   "source": []
  }
 ],
 "metadata": {
  "kernelspec": {
   "display_name": "Python 2",
   "language": "python",
   "name": "python2"
  },
  "language_info": {
   "codemirror_mode": {
    "name": "ipython",
    "version": 2
   },
   "file_extension": ".py",
   "mimetype": "text/x-python",
   "name": "python",
   "nbconvert_exporter": "python",
   "pygments_lexer": "ipython2",
   "version": "2.7.12"
  }
 },
 "nbformat": 4,
 "nbformat_minor": 2
}
